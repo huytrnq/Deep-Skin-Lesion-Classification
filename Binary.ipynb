{
 "cells": [
  {
   "cell_type": "code",
   "execution_count": 9,
   "id": "1663ae2e-88d4-41d7-a31b-28c1240f8d5a",
   "metadata": {
    "tags": []
   },
   "outputs": [],
   "source": [
    "import os\n",
    "from sklearn.model_selection import train_test_split\n",
    "import torch\n",
    "from torch.utils.data import DataLoader\n",
    "from torchvision import transforms, models\n",
    "\n",
    "\n",
    "from utils.dataset import SkinDataset\n",
    "from utils.utils import train, validate, test, load_data_file\n",
    "from utils.metric import MetricsMonitor"
   ]
  },
  {
   "cell_type": "markdown",
   "id": "7e14ab6e-615a-48bf-8709-55251f138bc0",
   "metadata": {},
   "source": [
    "## Data Transformation"
   ]
  },
  {
   "cell_type": "code",
   "execution_count": 2,
   "id": "b7351166-ac79-42b0-8e12-79c4b173142c",
   "metadata": {
    "tags": []
   },
   "outputs": [],
   "source": [
    "transform = transforms.Compose([\n",
    "    transforms.RandomHorizontalFlip(p=0.5),  # Randomly flip images horizontally with 50% probability\n",
    "    transforms.RandomAffine(\n",
    "        degrees=15,                           # Random rotation within [-15, 15] degrees\n",
    "        translate=(0.1, 0.1),                 # Random shift by up to 10% in both x and y directions\n",
    "    ),\n",
    "    transforms.Resize((224, 224)),           # Resize to match ResNet input size\n",
    "    transforms.ToTensor(),                   # Convert image to tensor\n",
    "    transforms.Normalize(mean=[0.485, 0.456, 0.406], std=[0.229, 0.224, 0.225]),  # Normalize with ImageNet stats\n",
    "])"
   ]
  },
  {
   "cell_type": "markdown",
   "id": "3c3349c3-cdad-4881-b5c5-8dfddcebb3a5",
   "metadata": {},
   "source": [
    "## Load Data"
   ]
  },
  {
   "cell_type": "code",
   "execution_count": 3,
   "id": "a7c240c1-40f8-4248-a383-2b3eade71e23",
   "metadata": {
    "tags": []
   },
   "outputs": [],
   "source": [
    "CLASSES = ['nevus', 'others']\n",
    "BATCH_SIZE = 64\n",
    "EPOCHS = 100\n",
    "LR = 0.0005\n",
    "device = 'cuda:0' if torch.cuda.is_available() else 'cpu'"
   ]
  },
  {
   "cell_type": "code",
   "execution_count": 7,
   "id": "4a5b566c-0dc0-4617-a3a6-a17667754e22",
   "metadata": {
    "tags": []
   },
   "outputs": [],
   "source": [
    "## Load data paths and labels\n",
    "train_path, train_labels = load_data_file('datasets/train.txt')\n",
    "train_path, val_path, train_labels, val_labels = train_test_split(train_path, train_labels, test_size=0.2, random_state=42, stratify=train_labels)\n",
    "test_path, test_labels = load_data_file('datasets/val.txt')\n",
    "\n",
    "## Create datasets and dataloaders\n",
    "train_dataset = SkinDataset(train_path, train_labels, transform)\n",
    "val_dataset = SkinDataset(val_path, val_labels, transform)\n",
    "test_dataset = SkinDataset(test_path, test_labels, transform)\n",
    "\n",
    "train_loader = DataLoader(train_dataset, batch_size=BATCH_SIZE, shuffle=True)\n",
    "val_loader = DataLoader(val_dataset, batch_size=BATCH_SIZE, shuffle=False)\n",
    "test_loader = DataLoader(test_dataset, batch_size=BATCH_SIZE, shuffle=False)"
   ]
  },
  {
   "cell_type": "code",
   "execution_count": 8,
   "id": "93041416",
   "metadata": {},
   "outputs": [
    {
     "name": "stdout",
     "output_type": "stream",
     "text": [
      "================== Train dataset Info: ==================\n",
      " Dataset: 12156 samples\n",
      "Class distribution: {0: 6180, 1: 5976}\n",
      "\n",
      "================== Val dataset Info: ==================\n",
      " Dataset: 3039 samples\n",
      "Class distribution: {1: 1494, 0: 1545}\n",
      "\n",
      "================== Test dataset Info: ==================\n",
      " Dataset: 3796 samples\n",
      "Class distribution: {0: 1931, 1: 1865}\n",
      "\n"
     ]
    }
   ],
   "source": [
    "print('================== Train dataset Info: ==================\\n', train_dataset)\n",
    "print('================== Val dataset Info: ==================\\n', val_dataset)\n",
    "print('================== Test dataset Info: ==================\\n', test_dataset)"
   ]
  },
  {
   "cell_type": "markdown",
   "id": "39ecbcaf-c933-4a25-947d-4c60d35d62ca",
   "metadata": {},
   "source": [
    "## Model"
   ]
  },
  {
   "cell_type": "code",
   "execution_count": 10,
   "id": "62f5cfc8-0e48-4986-9ad5-72a10efdda18",
   "metadata": {
    "tags": []
   },
   "outputs": [
    {
     "name": "stderr",
     "output_type": "stream",
     "text": [
      "/Users/huytrq/miniconda3/envs/py11/lib/python3.11/site-packages/torchvision/models/_utils.py:208: UserWarning: The parameter 'pretrained' is deprecated since 0.13 and may be removed in the future, please use 'weights' instead.\n",
      "  warnings.warn(\n",
      "/Users/huytrq/miniconda3/envs/py11/lib/python3.11/site-packages/torchvision/models/_utils.py:223: UserWarning: Arguments other than a weight enum or `None` for 'weights' are deprecated since 0.13 and may be removed in the future. The current behavior is equivalent to passing `weights=None`.\n",
      "  warnings.warn(msg)\n"
     ]
    }
   ],
   "source": [
    "# Model\n",
    "model = models.resnet50(pretrained=False)\n",
    "model.fc = torch.nn.Linear(model.fc.in_features, len(CLASSES))\n",
    "model = model.to(device)"
   ]
  },
  {
   "cell_type": "markdown",
   "id": "2e8adbce-010e-4a81-8c43-9b958e9538d2",
   "metadata": {},
   "source": [
    "## Training"
   ]
  },
  {
   "cell_type": "code",
   "execution_count": 11,
   "id": "5e9c4299-8a3f-41cd-95e6-86df310cddea",
   "metadata": {
    "tags": []
   },
   "outputs": [],
   "source": [
    "# Loss and Optimizer\n",
    "criterion = torch.nn.CrossEntropyLoss()\n",
    "optimizer = torch.optim.Adam(model.parameters(), lr=LR)\n",
    "\n",
    "# Monitors\n",
    "train_monitor = MetricsMonitor(metrics=[\"loss\", \"accuracy\"])\n",
    "val_monitor = MetricsMonitor(metrics=[\"loss\", \"accuracy\"], patience=5, mode=\"max\")"
   ]
  },
  {
   "cell_type": "code",
   "execution_count": null,
   "id": "c50415a4-b0b3-4f5b-a7f4-9423ebc93c17",
   "metadata": {
    "tags": []
   },
   "outputs": [],
   "source": [
    "# Training Loop\n",
    "for epoch in range(EPOCHS):\n",
    "    print(f\"Epoch {epoch + 1}/{EPOCHS}\")\n",
    "    train(model, train_loader, criterion, optimizer, device, train_monitor)\n",
    "    validate(model, val_loader, criterion, device, val_monitor)\n",
    "    val_acc = val_monitor.compute_average(\"accuracy\")\n",
    "    if val_monitor.early_stopping_check(val_acc, model):\n",
    "        print(\"Early stopping triggered.\")\n",
    "        break"
   ]
  },
  {
   "cell_type": "markdown",
   "id": "bb014470",
   "metadata": {},
   "source": [
    "## Testing"
   ]
  },
  {
   "cell_type": "code",
   "execution_count": null,
   "id": "cb8d7363",
   "metadata": {},
   "outputs": [],
   "source": [
    "test(model, test_loader, device)"
   ]
  }
 ],
 "metadata": {
  "kernelspec": {
   "display_name": "py11",
   "language": "python",
   "name": "python3"
  },
  "language_info": {
   "codemirror_mode": {
    "name": "ipython",
    "version": 3
   },
   "file_extension": ".py",
   "mimetype": "text/x-python",
   "name": "python",
   "nbconvert_exporter": "python",
   "pygments_lexer": "ipython3",
   "version": "3.11.8"
  }
 },
 "nbformat": 4,
 "nbformat_minor": 5
}
